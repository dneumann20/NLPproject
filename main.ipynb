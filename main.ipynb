{
 "cells": [
  {
   "cell_type": "code",
   "execution_count": 1,
   "metadata": {},
   "outputs": [],
   "source": [
    "from googleapiclient.discovery import build\n",
    "import nltk\n",
    "import numpy as np\n",
    "import pandas as pd\n",
    "import time\n",
    "# https://github.com/googleapis/google-api-python-client/blob/master/googleapiclient/discovery.py"
   ]
  },
  {
   "cell_type": "raw",
   "metadata": {},
   "source": [
    "# api_key = \"my-secret-api-key\"\n",
    "def google_search(query, **kwargs):\n",
    "    \n",
    "        query_service = build(serviceName=\"customsearch\", version=\"v1\", developerKey='my-secret-api-key',) \n",
    "        quert_results = query_service.cse().list(q=query,cx='my-secret-custom-search-id',\n",
    "                                                 **kwargs).execute()\n",
    "        return query_results['items']\n",
    "    \n",
    "# my_results = google_search('apple iphone news 2019',num = 100)"
   ]
  },
  {
   "cell_type": "code",
   "execution_count": 2,
   "metadata": {},
   "outputs": [],
   "source": [
    "from googlesearch import search\n",
    "\n",
    "def google_search(query):\n",
    "    return search(query, lang = 'en',  # The language\n",
    "                num = 10, start = 0, stop = None, pause = 2.0)\n"
   ]
  },
  {
   "cell_type": "raw",
   "metadata": {},
   "source": [
    "threshold, P, Q = 5, 'iphone', 'Huawei'\n",
    "results_p = google_search(P)\n",
    "count_p = len(list(results_p))\n",
    "\n",
    "results_q = google_search(Q)\n",
    "count_q = len(list(results_q))\n",
    "\n",
    "results_pq = google_search('{} AND {}'.format(P,Q))\n",
    "count_pq = len(list(results_pq))"
   ]
  },
  {
   "cell_type": "code",
   "execution_count": 10,
   "metadata": {},
   "outputs": [],
   "source": [
    "def sim(P, Q, threshold):\n",
    "    \n",
    "    print('Extracting P...')\n",
    "    results_p = google_search(P)\n",
    "    count_p = len(list(results_p))\n",
    "    \n",
    "    time.sleep(10)\n",
    "    print('Extracting Q...')\n",
    "    results_q = google_search(Q)\n",
    "    count_q = len(list(results_q))\n",
    "    \n",
    "    time.sleep(40)\n",
    "    \n",
    "    print('Extracting P AND Q...')\n",
    "    results_pq = google_search('{} AND {}'.format(P,Q))\n",
    "    count_pq = len(list(results_pq))\n",
    "    \n",
    "    \n",
    "    if count_pq <= threshold:\n",
    "        return 0\n",
    "    \n",
    "    else:\n",
    "        return (count_pq) /(count_p + count_q + count_pq) \n",
    "        \n",
    "        \n",
    "    "
   ]
  },
  {
   "cell_type": "code",
   "execution_count": 11,
   "metadata": {},
   "outputs": [
    {
     "name": "stdout",
     "output_type": "stream",
     "text": [
      "Extracting P...\n",
      "Extracting Q...\n",
      "Extracting P AND Q...\n"
     ]
    },
    {
     "data": {
      "text/plain": [
       "0.4"
      ]
     },
     "execution_count": 11,
     "metadata": {},
     "output_type": "execute_result"
    }
   ],
   "source": [
    "threshold, P, Q = 5, 'Iphone', 'Huawei'\n",
    "sim(P, Q, threshold)"
   ]
  },
  {
   "cell_type": "code",
   "execution_count": null,
   "metadata": {},
   "outputs": [],
   "source": []
  }
 ],
 "metadata": {
  "kernelspec": {
   "display_name": "Python 3",
   "language": "python",
   "name": "python3"
  },
  "language_info": {
   "codemirror_mode": {
    "name": "ipython",
    "version": 3
   },
   "file_extension": ".py",
   "mimetype": "text/x-python",
   "name": "python",
   "nbconvert_exporter": "python",
   "pygments_lexer": "ipython3",
   "version": "3.7.3"
  }
 },
 "nbformat": 4,
 "nbformat_minor": 4
}
